{
 "cells": [
  {
   "cell_type": "markdown",
   "id": "5dceb46c",
   "metadata": {},
   "source": [
    "# 인디언\n",
    "\n",
    "<h1> 인디언식 이름 짓기<h1>\n",
    "   "
   ]
  },
  {
   "cell_type": "code",
   "execution_count": 28,
   "id": "32085010",
   "metadata": {},
   "outputs": [],
   "source": [
    "year = {\n",
    "   0: '시끄러운 또는 말 많은',\n",
    "   1: '푸른',\n",
    "   2: '어두운 -> 적색',\n",
    "   3: '조용한',\n",
    "   4: '웅크린',\n",
    "   5: '백색',\n",
    "   6: '지혜로운',\n",
    "   7: '용감한',\n",
    "   8: '날카로운',\n",
    "   9: '욕심많은'\n",
    "}\n",
    "\n",
    "month = {\n",
    "   1: '늑대', 2: '태양', 3: '양', 4: '매',\n",
    "   5: '황소', 6: '불꽃', 7: '나무', 8: '달빛',\n",
    "   9: '말', 10: '돼지', 11: '하늘', 12: '바람'\n",
    "}\n",
    "\n",
    "day = {\n",
    "   1: '와(과) 함께 춤을', 2: '의 기상', 3: '은(는) 그림자속에',\n",
    "   4: '', 5: '', 6: '',\n",
    "   7: '의 환생', 8: '의 죽음', 9: '의 아래에서',\n",
    "   10: '을(를) 보라', 11: '이(가) 노래하다', 12: '의 그늘 -> 그림자',\n",
    "   13: '의 일격', 14: '에게 쫓기는 남자', 15: '의 행진',\n",
    "   16: '의 왕', 17: '의 유령', 18: '을 죽인자',\n",
    "   19: '은(는) 맨날 잠 잔다', 20: '처럼', 21: '의 고향',\n",
    "   22: '의 전사', 23: '은(는) 나의 친구', 24: '의 노래',\n",
    "   25: '의 정령', 26: '의 파수꾼', 27: '의 악마',\n",
    "   28: '와(과) 같은 사나이', 29: '의 심판자 -> 을(를) 쓰러트린 자', 30: '의 혼',\n",
    "   31: '은(는) 말이 없다',\n",
    "}\n",
    "\n"
   ]
  },
  {
   "cell_type": "code",
   "execution_count": 24,
   "id": "332d32f0",
   "metadata": {
    "scrolled": true
   },
   "outputs": [
    {
     "name": "stdout",
     "output_type": "stream",
     "text": [
      "08\n",
      "07\n"
     ]
    }
   ],
   "source": [
    "#    0123456789\n",
    "s = '1971-08-07'\n",
    "s.find('-'), s.find('-',5)\n",
    "first = s.find('-')\n",
    "sconed = s.find('-', first + 1)\n",
    "first, sconed\n",
    "\n",
    "월 = s[first + 1:sconed]\n",
    "print(월)         #월\n",
    "\n",
    "일 = s[sconed+1:]\n",
    "print(일)           #일"
   ]
  },
  {
   "cell_type": "code",
   "execution_count": 32,
   "id": "ac7cc478",
   "metadata": {},
   "outputs": [
    {
     "name": "stdout",
     "output_type": "stream",
     "text": [
      "푸른 달빛 의 환생\n"
     ]
    }
   ],
   "source": [
    "#           0123456789\n",
    "birthday = '1971-08-07'\n",
    "\n",
    "y = birthday[3]\n",
    "y = birthday[  birthday.find('-') - 1  ]\n",
    "\n",
    "m = birthday[5:7]\n",
    "m = birthday[birthday.find('-') + 1 : birthday.find('-', 5)]\n",
    "d = birthday[8:10]\n",
    "\n",
    "print('%s%s%s'%(year.get(int(y)), month.get(int(m)), day.get(int(d))))"
   ]
  },
  {
   "cell_type": "code",
   "execution_count": 184,
   "id": "c9acf77f",
   "metadata": {},
   "outputs": [],
   "source": [
    "import requests\n",
    "res = requests.get('https://newsapi.org/v2/top-headlines?country=kr&apiKey=9f5baf7d9f3f42879a20d7d19d9886e4')\n",
    "result = res.json()"
   ]
  },
  {
   "cell_type": "code",
   "execution_count": 143,
   "id": "a79fc90e",
   "metadata": {
    "scrolled": true
   },
   "outputs": [
    {
     "name": "stdout",
     "output_type": "stream",
     "text": [
      "None\n"
     ]
    }
   ],
   "source": [
    "name = result['articles'][0].get('name')\n",
    "print(name)"
   ]
  },
  {
   "cell_type": "code",
   "execution_count": 187,
   "id": "e1f4b427",
   "metadata": {
    "scrolled": true
   },
   "outputs": [
    {
     "name": "stdout",
     "output_type": "stream",
     "text": [
      "{'id': None, 'name': 'Bodnara.co.kr'}\n",
      "{'id': None, 'name': 'Kbench.com'}\n",
      "{'id': None, 'name': 'Kormedi.com'}\n",
      "{'id': None, 'name': 'Gamemeca.com'}\n",
      "{'id': None, 'name': 'Hani.co.kr'}\n",
      "{'id': None, 'name': 'Hani.co.kr'}\n",
      "{'id': None, 'name': 'Betanews.net'}\n",
      "{'id': None, 'name': 'Chosun.com'}\n",
      "{'id': None, 'name': 'Mt.co.kr'}\n",
      "{'id': None, 'name': 'Sedaily.com'}\n",
      "{'id': None, 'name': 'Khan.co.kr'}\n",
      "{'id': None, 'name': 'Imbc.com'}\n",
      "{'id': None, 'name': 'Newslock.co.kr'}\n",
      "{'id': None, 'name': 'Seoul.co.kr'}\n",
      "{'id': None, 'name': 'Hani.co.kr'}\n",
      "{'id': None, 'name': 'Chosun.com'}\n",
      "{'id': None, 'name': 'YouTube'}\n",
      "{'id': None, 'name': 'Spochoo.com'}\n",
      "{'id': None, 'name': 'Hani.co.kr'}\n",
      "{'id': None, 'name': 'Korea.kr'}\n"
     ]
    }
   ],
   "source": [
    "articles = result.get('articles')\n",
    "for articles in articles:\n",
    "    source = articles.get('source')\n",
    "    print(source)\n",
    "    \n",
    "#     for source in source:\n",
    "#     name = source.get('name')\n",
    "#     print(name)"
   ]
  },
  {
   "cell_type": "code",
   "execution_count": 188,
   "id": "3df59660",
   "metadata": {},
   "outputs": [
    {
     "ename": "AttributeError",
     "evalue": "'str' object has no attribute 'get'",
     "output_type": "error",
     "traceback": [
      "\u001b[1;31m---------------------------------------------------------------------------\u001b[0m",
      "\u001b[1;31mAttributeError\u001b[0m                            Traceback (most recent call last)",
      "Cell \u001b[1;32mIn[188], line 2\u001b[0m\n\u001b[0;32m      1\u001b[0m \u001b[38;5;28;01mfor\u001b[39;00m source \u001b[38;5;129;01min\u001b[39;00m source:\n\u001b[1;32m----> 2\u001b[0m     name \u001b[38;5;241m=\u001b[39m \u001b[43msource\u001b[49m\u001b[38;5;241;43m.\u001b[39;49m\u001b[43mget\u001b[49m(\u001b[38;5;124m'\u001b[39m\u001b[38;5;124mname\u001b[39m\u001b[38;5;124m'\u001b[39m)\n\u001b[0;32m      3\u001b[0m     \u001b[38;5;28mprint\u001b[39m(name)\n",
      "\u001b[1;31mAttributeError\u001b[0m: 'str' object has no attribute 'get'"
     ]
    }
   ],
   "source": [
    "for source in source:\n",
    "    name = source.get('name')\n",
    "    print(name)"
   ]
  },
  {
   "cell_type": "code",
   "execution_count": 83,
   "id": "270881e4",
   "metadata": {},
   "outputs": [
    {
     "name": "stdout",
     "output_type": "stream",
     "text": [
      "2023-02-10T02:18:00Z\n",
      "2023-02-10T01:58:35Z\n",
      "2023-02-10T01:56:00Z\n",
      "2023-02-10T01:39:40Z\n",
      "2023-02-10T01:37:00Z\n",
      "2023-02-10T01:33:50Z\n",
      "2023-02-10T01:26:00Z\n",
      "2023-02-10T01:11:52Z\n",
      "2023-02-10T01:05:47Z\n",
      "2023-02-10T01:04:00Z\n",
      "2023-02-10T01:00:31Z\n",
      "2023-02-10T00:58:35Z\n",
      "2023-02-10T00:42:01Z\n",
      "2023-02-10T00:35:40Z\n",
      "2023-02-10T00:33:00Z\n",
      "2023-02-10T00:29:00Z\n",
      "2023-02-10T00:09:35Z\n",
      "2023-02-09T23:40:00Z\n",
      "2023-02-09T23:38:01Z\n",
      "2023-02-09T23:04:06Z\n"
     ]
    }
   ],
   "source": [
    "articles = result.get('articles')\n",
    "for articles in articles:\n",
    "    publishedAt = articles.get('publishedAt')\n",
    "    print(publishedAt)"
   ]
  },
  {
   "cell_type": "code",
   "execution_count": 42,
   "id": "ef62c6d6",
   "metadata": {
    "collapsed": true
   },
   "outputs": [
    {
     "name": "stdout",
     "output_type": "stream",
     "text": [
      "작성일자는 2023년 02월 10일 00시 29분 03초 이다.\n",
      "작성일자는 2023년 02월 10일 00시 29분 00초 이다.\n",
      "작성일자는 2023년 02월 10일 00시 18분 31초 이다.\n",
      "작성일자는 2023년 02월 10일 00시 09분 40초 이다.\n",
      "작성일자는 2023년 02월 10일 00시 09분 35초 이다.\n",
      "작성일자는 2023년 02월 10일 00시 00분 15초 이다.\n",
      "작성일자는 2023년 02월 09일 23시 21분 55초 이다.\n",
      "작성일자는 2023년 02월 09일 23시 19분 59초 이다.\n",
      "작성일자는 2023년 02월 09일 23시 16분 22초 이다.\n",
      "작성일자는 2023년 02월 09일 23시 07분 17초 이다.\n",
      "작성일자는 2023년 02월 09일 23시 00분 25초 이다.\n",
      "작성일자는 2023년 02월 09일 23시 00분 00초 이다.\n",
      "작성일자는 2023년 02월 09일 22시 32분 27초 이다.\n",
      "작성일자는 2023년 02월 09일 22시 18분 00초 이다.\n",
      "작성일자는 2023년 02월 09일 22시 02분 30초 이다.\n",
      "작성일자는 2023년 02월 09일 22시 00분 03초 이다.\n",
      "작성일자는 2023년 02월 09일 21시 42분 59초 이다.\n",
      "작성일자는 2023년 02월 09일 21시 19분 23초 이다.\n",
      "작성일자는 2023년 02월 09일 21시 17분 07초 이다.\n",
      "작성일자는 2023년 02월 09일 21시 11분 00초 이다.\n"
     ]
    }
   ],
   "source": [
    "articles = result.get('articles')\n",
    "for articles in articles:\n",
    "    publishedAt = articles.get('publishedAt')\n",
    "    년 = publishedAt[:4]\n",
    "    월 = publishedAt[5:7]\n",
    "    일 = publishedAt[8:10]\n",
    "    시 = publishedAt[11:13]\n",
    "    분 = publishedAt[14:16]\n",
    "    초 = publishedAt[17:19]\n",
    "    \n",
    "    print(f\"작성일자는 {년}년 {월}월 {일}일 {시}시 {분}분 {초}초 이다.\")"
   ]
  },
  {
   "cell_type": "code",
   "execution_count": 61,
   "id": "e3bec5b1",
   "metadata": {
    "scrolled": true
   },
   "outputs": [
    {
     "name": "stdout",
     "output_type": "stream",
     "text": [
      "작성일자는 2023년 월 03일 00시 023-02-10T0분 03초 에 작성되었다.\n",
      "작성일자는 2023년 월 00일 00시 023-02-10T0분 00초 에 작성되었다.\n",
      "작성일자는 2023년 월 31일 00시 023-02-10T0분 31초 에 작성되었다.\n",
      "작성일자는 2023년 월 40일 00시 023-02-10T0분 40초 에 작성되었다.\n",
      "작성일자는 2023년 월 35일 00시 023-02-10T0분 35초 에 작성되었다.\n",
      "작성일자는 2023년 월 15일 00시 023-02-10T0분 15초 에 작성되었다.\n",
      "작성일자는 2023년 월 55일 23시 분 55초 에 작성되었다.\n",
      "작성일자는 2023년 월 59일 23시 분 59초 에 작성되었다.\n",
      "작성일자는 2023년 월 22일 23시 분 22초 에 작성되었다.\n",
      "작성일자는 2023년 월 17일 23시 분 17초 에 작성되었다.\n",
      "작성일자는 2023년 월 25일 23시 분 25초 에 작성되었다.\n",
      "작성일자는 2023년 월 00일 23시 분 00초 에 작성되었다.\n",
      "작성일자는 2023년 월 27일 22시 분 27초 에 작성되었다.\n",
      "작성일자는 2023년 월 00일 22시 분 00초 에 작성되었다.\n",
      "작성일자는 2023년 월 30일 22시 분 30초 에 작성되었다.\n",
      "작성일자는 2023년 월 03일 22시 분 03초 에 작성되었다.\n",
      "작성일자는 2023년 월 59일 21시 분 59초 에 작성되었다.\n",
      "작성일자는 2023년 월 23일 21시 분 23초 에 작성되었다.\n",
      "작성일자는 2023년 월 07일 21시 분 07초 에 작성되었다.\n",
      "작성일자는 2023년 월 00일 21시 분 00초 에 작성되었다.\n"
     ]
    }
   ],
   "source": [
    "articles = result.get('articles')\n",
    "for articles in articles:\n",
    "    publishedAt = articles.get('publishedAt')\n",
    "    년 = publishedAt[ : publishedAt.find('-')]\n",
    "    월 = publishedAt[int(년) + 1 : publishedAt.find('-')  ]\n",
    "    일 = publishedAt[publishedAt.find('t') - 2 : publishedAt.find('t')]\n",
    "    시 = publishedAt[publishedAt.find(':') - 2 :publishedAt.find(':')]\n",
    "    분 = publishedAt[int(시) + 1 : publishedAt.find(':') - 1]\n",
    "    초 = publishedAt[-3:-1]\n",
    "    \n",
    "    print(f\"작성일자는 {년}년 {월}월 {일}일 {시}시 {분}분 {초}초 에 작성되었다.\")"
   ]
  },
  {
   "cell_type": "markdown",
   "id": "f4698f80",
   "metadata": {},
   "source": [
    "\n",
    "\n",
    "# 로또 1등 번호 가져오기"
   ]
  },
  {
   "cell_type": "code",
   "execution_count": 144,
   "id": "6dc04499",
   "metadata": {},
   "outputs": [],
   "source": [
    "import requests\n",
    "res = requests.get('https://dhlottery.co.kr/gameResult.do?method=byWin')\n",
    "result = res.text"
   ]
  },
  {
   "cell_type": "code",
   "execution_count": 145,
   "id": "2eadfeca",
   "metadata": {},
   "outputs": [
    {
     "name": "stdout",
     "output_type": "stream",
     "text": [
      "<strong>1053회</strong> 당첨결과</h4>\r\n",
      "\t\t\t\t\t<p class=\"desc\">(2023년 02월 04일 추첨)</p>\r\n",
      "\t\t\t\t\t<div class=\"nums\">\r\n",
      "\t\t\t\t\t\t<div class=\"num win\">\r\n",
      "\t\t\t\t\t\t\t<strong>당첨번호</strong>\r\n",
      "\t\t\t\t\t\t\t<p>\r\n",
      "\t\t\t\t\t\t\t\t<span class=\"ball_645 lrg ball3\">22</span>\r\n",
      "\t\t\t\t\t\t\t\t<span class=\"ball_645 lrg ball3\">26</span>\r\n",
      "\t\t\t\t\t\t\t\t<span class=\"ball_645 lrg ball3\">29</span>\r\n",
      "\t\t\t\t\t\t\t\t<span class=\"ball_645 lrg ball3\">30</span>\r\n",
      "\t\t\t\t\t\t\t\t<span class=\"ball_645 lrg ball4\">34</span>\r\n",
      "\t\t\t\t\t\t\t\t<span class=\"ball_645 lrg ball5\">45</span>\r\n",
      "\t\t\t\t\t\t\t</p>\r\n",
      "\t\t\t\t\t\t</div>\r\n",
      "\t\t\t\t\t\t<div class=\"\n"
     ]
    }
   ],
   "source": [
    "sidx = result.find('<strong>1053회</strong>')\n",
    "eidx = result.find('num bonus', sidx)\n",
    "result2 = result[sidx:eidx]\n",
    "print(result2)"
   ]
  },
  {
   "cell_type": "code",
   "execution_count": 146,
   "id": "fec149ec",
   "metadata": {},
   "outputs": [
    {
     "name": "stdout",
     "output_type": "stream",
     "text": [
      "-1\n"
     ]
    },
    {
     "data": {
      "text/plain": [
       "'<strong>1053회</strong> 당첨결과</h4>\\r\\n\\t\\t\\t\\t\\t<p class=\"desc\">(2023년 02월 04일 추첨)</p>\\r\\n\\t\\t\\t\\t\\t<div class=\"nums\">\\r\\n\\t\\t\\t\\t\\t\\t<div class=\"num win\">\\r\\n\\t\\t\\t\\t\\t\\t\\t<strong>당첨번호</strong>\\r\\n\\t\\t\\t\\t\\t\\t\\t<p>\\r\\n\\t\\t\\t\\t\\t\\t\\t\\t<span class=\"ball_645 lrg ball3\">22</span>\\r\\n\\t\\t\\t\\t\\t\\t\\t\\t<span class=\"ball_645 lrg ball3\">26</span>\\r\\n\\t\\t\\t\\t\\t\\t\\t\\t<span class=\"ball_645 lrg ball3\">29</span>\\r\\n\\t\\t\\t\\t\\t\\t\\t\\t<span class=\"ball_645 lrg ball3\">30</span>\\r\\n\\t\\t\\t\\t\\t\\t\\t\\t<span class=\"ball_645 lrg ball4\">34</span>\\r\\n\\t\\t\\t\\t\\t\\t\\t\\t<span class=\"ball_645 lrg ball5\">45</span>\\r\\n\\t\\t\\t\\t\\t\\t\\t</p>\\r\\n\\t\\t\\t\\t\\t\\t</div>\\r\\n\\t\\t\\t\\t\\t\\t<div class='"
      ]
     },
     "execution_count": 146,
     "metadata": {},
     "output_type": "execute_result"
    }
   ],
   "source": [
    "sidx = result2.find('ball_645', eidx)\n",
    "print(sidx)\n",
    "sidx = result2.find('>',sidx)\n",
    "eidx = result2.find('<',sidx)\n",
    "result2[sidx + 1 : eidx]"
   ]
  },
  {
   "cell_type": "code",
   "execution_count": 147,
   "id": "98912120",
   "metadata": {},
   "outputs": [
    {
     "name": "stdout",
     "output_type": "stream",
     "text": [
      "22\n",
      "26\n",
      "29\n",
      "30\n",
      "34\n",
      "45\n"
     ]
    }
   ],
   "source": [
    "eidx = 0\n",
    "while True:\n",
    "    sidx = result2.find('ball_645', eidx)\n",
    "    if sidx == -1: break\n",
    "    sidx = result2.find('>',sidx)\n",
    "    eidx = result2.find('<',sidx)\n",
    "    print(result2[sidx + 1 : eidx])"
   ]
  },
  {
   "cell_type": "code",
   "execution_count": 155,
   "id": "50c2fd66",
   "metadata": {},
   "outputs": [
    {
     "name": "stdout",
     "output_type": "stream",
     "text": [
      "3\n",
      "2\n",
      "1\n"
     ]
    }
   ],
   "source": [
    "num = 123 # 1 2 3\n",
    "\n",
    "일자리= num % 10\n",
    "print(일자리)\n",
    "\n",
    "십자리 = num // 10 % 10\n",
    "print(십자리)\n",
    "\n",
    "백자리 = num // 100 %10\n",
    "print(백자리)\n"
   ]
  },
  {
   "cell_type": "code",
   "execution_count": 157,
   "id": "f2091740",
   "metadata": {},
   "outputs": [
    {
     "name": "stdout",
     "output_type": "stream",
     "text": [
      "3\n",
      "2\n",
      "1\n"
     ]
    }
   ],
   "source": [
    "num = 123 # 1 2 3\n",
    "\n",
    "n = num % 10\n",
    "print(n)\n",
    "\n",
    "num = num // 10\n",
    "n = num % 10\n",
    "print(n)\n",
    "\n",
    "num = num // 10\n",
    "n = num%10\n",
    "print(n)"
   ]
  },
  {
   "cell_type": "code",
   "execution_count": 156,
   "id": "872fadd3",
   "metadata": {},
   "outputs": [
    {
     "name": "stdout",
     "output_type": "stream",
     "text": [
      "3\n",
      "2\n",
      "1\n"
     ]
    }
   ],
   "source": [
    "num = 123\n",
    "while True:\n",
    "    n =num % 10\n",
    "    print(n)\n",
    "    num = num // 10\n",
    "    if num == 0 : break"
   ]
  },
  {
   "cell_type": "code",
   "execution_count": 168,
   "id": "8d371b42",
   "metadata": {},
   "outputs": [
    {
     "name": "stdout",
     "output_type": "stream",
     "text": [
      "[1, 2, 3]\n",
      "6\n"
     ]
    }
   ],
   "source": [
    "num = 123\n",
    "temp = str(num)\n",
    "temp2 = list(temp)\n",
    "print(list(map(int, temp2)))\n",
    "print(sum(list(map(int, temp2))))"
   ]
  },
  {
   "cell_type": "code",
   "execution_count": 175,
   "id": "20e9c1a3",
   "metadata": {},
   "outputs": [
    {
     "data": {
      "text/plain": [
       "(11, 20)"
      ]
     },
     "execution_count": 175,
     "metadata": {},
     "output_type": "execute_result"
    }
   ],
   "source": [
    "page = 10   #10으로 나누어 떨어지는 페이지는 오동작\n",
    "#시작 1 마지막 10    <==\n",
    "시작 = page //10 * 10 + 1\n",
    "마지막 = 시작 + 9\n",
    "시작, 마지막"
   ]
  },
  {
   "cell_type": "code",
   "execution_count": 180,
   "id": "6a95e301",
   "metadata": {},
   "outputs": [
    {
     "data": {
      "text/plain": [
       "(91, 100)"
      ]
     },
     "execution_count": 180,
     "metadata": {},
     "output_type": "execute_result"
    }
   ],
   "source": [
    "page = 100 \n",
    "#시작 1 마지막 10    <==\n",
    "if page % 10 != 0 : \n",
    "    시작 = page //10 * 10 + 1\n",
    "else :\n",
    "    시작 = (page - 1) // 10 * 10 +1\n",
    "마지막 = 시작 + 9\n",
    "시작, 마지막"
   ]
  },
  {
   "cell_type": "code",
   "execution_count": 189,
   "id": "30b09627",
   "metadata": {},
   "outputs": [
    {
     "data": {
      "text/plain": [
       "(11, 20)"
      ]
     },
     "execution_count": 189,
     "metadata": {},
     "output_type": "execute_result"
    }
   ],
   "source": [
    "page = 11   #10으로 나누어 떨어지는 페이지는 오동작\n",
    "#시작 1 마지막 10    <==\n",
    "시작 = (page-1) //10 * 10 + 1\n",
    "\n",
    "# if page %10 ==0:\n",
    "#     시작 = page -9\n",
    "    \n",
    "마지막 = 시작 + 9\n",
    "시작, 마지막"
   ]
  },
  {
   "cell_type": "code",
   "execution_count": 196,
   "id": "7e3ac43a",
   "metadata": {},
   "outputs": [],
   "source": [
    "#폴더가 없으면 생성하기\n",
    "import os\n",
    "# if os.path.isdir('ggoreb')  ==False:\n",
    "if not os.path.isdir('ggoreb'):\n",
    "    os.mkdir('ggoreb')"
   ]
  },
  {
   "cell_type": "code",
   "execution_count": 199,
   "id": "4d42b81a",
   "metadata": {},
   "outputs": [
    {
     "name": "stdout",
     "output_type": "stream",
     "text": [
      "cd\n"
     ]
    }
   ],
   "source": [
    "#       012345\n",
    "text = 'abcdef' #홀수  => c\n",
    "center = len(text)//2\n",
    "if len(text) % 2 != 0:\n",
    "    print(text[center])\n",
    "else:\n",
    "    #                2  :  4\n",
    "    print(text[center-1 :center+1])"
   ]
  },
  {
   "cell_type": "code",
   "execution_count": 206,
   "id": "30fc5886",
   "metadata": {},
   "outputs": [
    {
     "name": "stdout",
     "output_type": "stream",
     "text": [
      "통과\n"
     ]
    }
   ],
   "source": [
    "a = 4\n",
    "b = 2\n",
    "c = 1\n",
    "#a가 5이고, b가 3이거나 c가 1미만이면 통과\n",
    "if a == 5 and (b == 3 or c == 1):\n",
    "    print('통과')\n",
    "else:\n",
    "    print('불과')"
   ]
  },
  {
   "cell_type": "code",
   "execution_count": 25,
   "id": "6a343902",
   "metadata": {
    "scrolled": true
   },
   "outputs": [
    {
     "name": "stdout",
     "output_type": "stream",
     "text": [
      "갯수 19\n",
      "3\n",
      "13\n",
      "23\n",
      "30\n",
      "31\n",
      "32\n",
      "33\n",
      "34\n",
      "35\n",
      "36\n",
      "37\n",
      "38\n",
      "39\n",
      "43\n",
      "53\n",
      "63\n",
      "73\n",
      "83\n",
      "93\n"
     ]
    }
   ],
   "source": [
    "count = 0\n",
    "for i in range(1,101):\n",
    "    if '3' in str(i):\n",
    "        count = count + 1\n",
    "print('갯수',count)        \n",
    "        \n",
    "for i in range(1,101):\n",
    "    if '3' in str(i):\n",
    "        print(i)\n"
   ]
  },
  {
   "cell_type": "code",
   "execution_count": 22,
   "id": "2a8166c4",
   "metadata": {},
   "outputs": [
    {
     "name": "stdout",
     "output_type": "stream",
     "text": [
      "[1, 2, 3, 4, 5, 6, 7, 8, 9, 10, 11, 12, 13, 14, 15, 16, 17, 18, 19, 20, 21, 22, 23, 24, 25, 26, 27, 28, 29, 30, 31, 32, 33, 34, 35, 36, 37, 38, 39, 40, 41, 42, 43, 44, 45, 46, 47, 48, 49, 50, 51, 52, 53, 54, 55, 56, 57, 58, 59, 60, 61, 62, 63, 64, 65, 66, 67, 68, 69, 70, 71, 72, 73, 74, 75, 76, 77, 78, 79, 80, 81, 82, 83, 84, 85, 86, 87, 88, 89, 90, 91, 92, 93, 94, 95, 96, 97, 98, 99, 100]\n"
     ]
    }
   ],
   "source": [
    "temp = []\n",
    "for i in range(0,100):\n",
    "    i += 1\n",
    "    temp.append(i)\n",
    "    \n",
    "print(temp)\n",
    "# result = ''.join(str(temp))\n",
    "# print(result)"
   ]
  },
  {
   "cell_type": "code",
   "execution_count": 23,
   "id": "abb0e2ca",
   "metadata": {},
   "outputs": [
    {
     "name": "stdout",
     "output_type": "stream",
     "text": [
      "[1, 2, 3]\n",
      "6\n"
     ]
    }
   ],
   "source": [
    "num = 123\n",
    "temp = str(num)\n",
    "temp2 = list(temp)\n",
    "print(list(map(int, temp2)))\n",
    "print(sum(list(map(int, temp2))))"
   ]
  },
  {
   "cell_type": "code",
   "execution_count": null,
   "id": "b15b425c",
   "metadata": {},
   "outputs": [],
   "source": []
  },
  {
   "cell_type": "code",
   "execution_count": null,
   "id": "9b9a3d77",
   "metadata": {},
   "outputs": [],
   "source": []
  }
 ],
 "metadata": {
  "kernelspec": {
   "display_name": "Python 3 (ipykernel)",
   "language": "python",
   "name": "python3"
  },
  "language_info": {
   "codemirror_mode": {
    "name": "ipython",
    "version": 3
   },
   "file_extension": ".py",
   "mimetype": "text/x-python",
   "name": "python",
   "nbconvert_exporter": "python",
   "pygments_lexer": "ipython3",
   "version": "3.11.1"
  }
 },
 "nbformat": 4,
 "nbformat_minor": 5
}
