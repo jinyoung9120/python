{
 "cells": [
  {
   "cell_type": "code",
   "execution_count": 1,
   "id": "8a97fbab",
   "metadata": {},
   "outputs": [
    {
     "name": "stdout",
     "output_type": "stream",
     "text": [
      "갯수 19\n",
      "3\n",
      "13\n",
      "23\n",
      "30\n",
      "31\n",
      "32\n",
      "33\n",
      "34\n",
      "35\n",
      "36\n",
      "37\n",
      "38\n",
      "39\n",
      "43\n",
      "53\n",
      "63\n",
      "73\n",
      "83\n",
      "93\n"
     ]
    }
   ],
   "source": [
    "count = 0\n",
    "for i in range(1,101):\n",
    "    if '3' in str(i):\n",
    "        count = count + 1\n",
    "print('갯수',count)        \n",
    "        \n",
    "for i in range(1,101):\n",
    "    if '3' in str(i):\n",
    "        print(i)\n"
   ]
  },
  {
   "cell_type": "code",
   "execution_count": 2,
   "id": "483aed4c",
   "metadata": {},
   "outputs": [
    {
     "name": "stdout",
     "output_type": "stream",
     "text": [
      "[1, 2, 3, 4, 5, 6, 7, 8, 9, 10, 11, 12, 13, 14, 15, 16, 17, 18, 19, 20, 21, 22, 23, 24, 25, 26, 27, 28, 29, 30, 31, 32, 33, 34, 35, 36, 37, 38, 39, 40, 41, 42, 43, 44, 45, 46, 47, 48, 49, 50, 51, 52, 53, 54, 55, 56, 57, 58, 59, 60, 61, 62, 63, 64, 65, 66, 67, 68, 69, 70, 71, 72, 73, 74, 75, 76, 77, 78, 79, 80, 81, 82, 83, 84, 85, 86, 87, 88, 89, 90, 91, 92, 93, 94, 95, 96, 97, 98, 99, 100]\n"
     ]
    }
   ],
   "source": [
    "temp = []\n",
    "for i in range(0,100):\n",
    "    i += 1\n",
    "    temp.append(i)\n",
    "    \n",
    "print(temp)\n",
    "# result = ''.join(str(temp))\n",
    "# print(result)"
   ]
  },
  {
   "cell_type": "code",
   "execution_count": null,
   "id": "3e467919",
   "metadata": {},
   "outputs": [],
   "source": []
  },
  {
   "cell_type": "code",
   "execution_count": null,
   "id": "ac904bca",
   "metadata": {},
   "outputs": [],
   "source": [
    "num = 123\n",
    "temp = str(num)\n",
    "temp2 = list(temp)\n",
    "print(list(map(int, temp2)))\n",
    "print(sum(list(map(int, temp2))))"
   ]
  },
  {
   "cell_type": "code",
   "execution_count": null,
   "id": "fe140da2",
   "metadata": {},
   "outputs": [],
   "source": []
  },
  {
   "cell_type": "code",
   "execution_count": null,
   "id": "636005b2",
   "metadata": {},
   "outputs": [],
   "source": []
  },
  {
   "cell_type": "markdown",
   "id": "41389f7b",
   "metadata": {},
   "source": [
    "# 강사님"
   ]
  },
  {
   "cell_type": "code",
   "execution_count": 1,
   "id": "bfdb5933",
   "metadata": {
    "scrolled": true
   },
   "outputs": [
    {
     "name": "stdout",
     "output_type": "stream",
     "text": [
      "개수:19\n",
      "개수 :19\n"
     ]
    }
   ],
   "source": [
    "count = 0\n",
    "for i in range(1, 101):\n",
    "    if '3' in str(i):\n",
    "        count += 1\n",
    "print('개수:' + str(count))\n",
    "print('개수 :%s' %count)"
   ]
  },
  {
   "cell_type": "code",
   "execution_count": 23,
   "id": "4fe46776",
   "metadata": {},
   "outputs": [
    {
     "name": "stdout",
     "output_type": "stream",
     "text": [
      "개수 : 20\n",
      "개수 : 20\n"
     ]
    }
   ],
   "source": [
    "count = 0\n",
    "for i in range(1, 101):\n",
    "    count += list(str(i)).count('3')\n",
    "#     if '3' in str(i):\n",
    "#         count += 1\n",
    "print('개수 : ' + str(count))\n",
    "print('개수 : %s' % count)"
   ]
  },
  {
   "cell_type": "code",
   "execution_count": 5,
   "id": "3ae404c4",
   "metadata": {},
   "outputs": [
    {
     "data": {
      "text/plain": [
       "1"
      ]
     },
     "execution_count": 5,
     "metadata": {},
     "output_type": "execute_result"
    }
   ],
   "source": [
    "list('3').count('3')"
   ]
  },
  {
   "cell_type": "code",
   "execution_count": 25,
   "id": "ba133696",
   "metadata": {},
   "outputs": [
    {
     "name": "stdout",
     "output_type": "stream",
     "text": [
      "개수 :0\n"
     ]
    }
   ],
   "source": [
    "count = 0\n",
    "count += list(str(i)).count('3')\n",
    "print('개수 :' + str(count))"
   ]
  },
  {
   "cell_type": "markdown",
   "id": "ddccaec6",
   "metadata": {},
   "source": [
    "# 강사님 코드 보고싶으면 강사님꺼 파일로 보기 "
   ]
  },
  {
   "cell_type": "code",
   "execution_count": null,
   "id": "8c81559e",
   "metadata": {},
   "outputs": [],
   "source": []
  },
  {
   "cell_type": "code",
   "execution_count": null,
   "id": "599e5cb6",
   "metadata": {},
   "outputs": [],
   "source": []
  },
  {
   "cell_type": "code",
   "execution_count": null,
   "id": "fca89e39",
   "metadata": {},
   "outputs": [],
   "source": []
  },
  {
   "cell_type": "code",
   "execution_count": null,
   "id": "a29404fd",
   "metadata": {},
   "outputs": [],
   "source": []
  }
 ],
 "metadata": {
  "kernelspec": {
   "display_name": "Python 3 (ipykernel)",
   "language": "python",
   "name": "python3"
  },
  "language_info": {
   "codemirror_mode": {
    "name": "ipython",
    "version": 3
   },
   "file_extension": ".py",
   "mimetype": "text/x-python",
   "name": "python",
   "nbconvert_exporter": "python",
   "pygments_lexer": "ipython3",
   "version": "3.11.1"
  }
 },
 "nbformat": 4,
 "nbformat_minor": 5
}
