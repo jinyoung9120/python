{
 "cells": [
  {
   "cell_type": "markdown",
   "id": "2c07eba4",
   "metadata": {},
   "source": [
    "# 조건부 표현식"
   ]
  },
  {
   "cell_type": "code",
   "execution_count": 1,
   "id": "1167a211",
   "metadata": {
    "scrolled": true
   },
   "outputs": [
    {
     "name": "stdout",
     "output_type": "stream",
     "text": [
      "fail\n",
      "fail\n"
     ]
    }
   ],
   "source": [
    "# 조건부 표현식\n",
    "score = 40\n",
    "if score>= 60:\n",
    "    print('pass')\n",
    "else:                 #else는 쓰는거 권장\n",
    "    print('fail')\n",
    "    \n",
    "print('pass') if score >= 60 else print('fail')     #위 아래 같은 문장"
   ]
  },
  {
   "cell_type": "code",
   "execution_count": null,
   "id": "bb0011d5",
   "metadata": {},
   "outputs": [],
   "source": []
  },
  {
   "cell_type": "code",
   "execution_count": null,
   "id": "b98d2c6c",
   "metadata": {},
   "outputs": [],
   "source": []
  },
  {
   "cell_type": "markdown",
   "id": "e56ac441",
   "metadata": {},
   "source": [
    "# 반복문\n",
    "\n",
    "while\n",
    "- 개수 / 횟수 모를때\n",
    "- \n",
    " *continue :반복문의 맨 위로 이동\n",
    "\n",
    "for\n",
    "- 개수/ 횟수 알때\n",
    "- "
   ]
  },
  {
   "cell_type": "code",
   "execution_count": 3,
   "id": "9e80a5ed",
   "metadata": {
    "collapsed": true
   },
   "outputs": [
    {
     "name": "stdout",
     "output_type": "stream",
     "text": [
      "추출된 숫자 : 7\n",
      "추출된 숫자 : 3\n",
      "추출된 숫자 : 6\n",
      "추출된 숫자 : 3\n",
      "추출된 숫자 : 6\n",
      "추출된 숫자 : 2\n",
      "추출된 숫자 : 2\n",
      "추출된 숫자 : 6\n",
      "추출된 숫자 : 6\n",
      "추출된 숫자 : 10\n",
      "추출된 숫자 : 6\n",
      "추출된 숫자 : 6\n",
      "추출된 숫자 : 8\n",
      "추출된 숫자 : 8\n",
      "추출된 숫자 : 8\n",
      "추출된 숫자 : 8\n",
      "추출된 숫자 : 1\n",
      "추출된 숫자 : 7\n",
      "추출된 숫자 : 10\n",
      "추출된 숫자 : 1\n",
      "추출된 숫자 : 4\n",
      "추출된 숫자 : 5\n"
     ]
    }
   ],
   "source": [
    "import random\n",
    "while True:\n",
    "    number = random.randint(1, 10)\n",
    "    #randint(랜덤인티저) = 랜덤정수 /원래 정석이 아니라 쓰기 쉽게 바꾼거 facade패턴(퍼사드패턴)\n",
    "    print('추출된 숫자 : %d' %number)\n",
    "    if number == 5:\n",
    "        break"
   ]
  },
  {
   "cell_type": "code",
   "execution_count": 53,
   "id": "c8ef02a9",
   "metadata": {},
   "outputs": [
    {
     "data": {
      "text/plain": [
       "4"
      ]
     },
     "execution_count": 53,
     "metadata": {},
     "output_type": "execute_result"
    }
   ],
   "source": [
    "import random\n",
    "random.random()    #0.0 <= x <1.0\n",
    "\n",
    "#1 ~ 6 숫자만들어내기\n",
    "# 0 ~ 5.999999999....\n",
    "import random\n",
    "int(random.random() * 6) + 1"
   ]
  },
  {
   "cell_type": "code",
   "execution_count": null,
   "id": "27ca9e18",
   "metadata": {},
   "outputs": [],
   "source": []
  },
  {
   "cell_type": "code",
   "execution_count": null,
   "id": "f271f142",
   "metadata": {},
   "outputs": [],
   "source": [
    "#    0123\n",
    "s = 'abcd'\n",
    "s[1:2] #두번째 숫자에서 1 감소\n",
    "\n",
    "list(range(1,5))"
   ]
  },
  {
   "cell_type": "code",
   "execution_count": null,
   "id": "2d11fd0f",
   "metadata": {},
   "outputs": [],
   "source": []
  },
  {
   "cell_type": "code",
   "execution_count": 59,
   "id": "f2ff4749",
   "metadata": {},
   "outputs": [
    {
     "data": {
      "text/plain": [
       "1676252908.8026907"
      ]
     },
     "execution_count": 59,
     "metadata": {},
     "output_type": "execute_result"
    }
   ],
   "source": [
    "import time\n",
    "time.time()      #Unix Time"
   ]
  },
  {
   "cell_type": "code",
   "execution_count": 62,
   "id": "6c62524e",
   "metadata": {},
   "outputs": [
    {
     "name": "stdout",
     "output_type": "stream",
     "text": [
      "[3, 38, 35, 7, 40, 11]\n"
     ]
    }
   ],
   "source": [
    "#랜덤으로 로또번호 추첨하기\n",
    "\n",
    "import random\n",
    "\n",
    "lotto = []\n",
    "\n",
    "for i in range(6):    #6번\n",
    "    n = random.randint(1,45)\n",
    "    lotto.append(n)\n",
    "#     lotto += [n]    어펜드를 쓰거나 이걸 쓰거나 둘 중 하나만 근데 둘이 같음\n",
    "\n",
    "print(lotto)"
   ]
  },
  {
   "cell_type": "code",
   "execution_count": 73,
   "id": "9695d72f",
   "metadata": {},
   "outputs": [
    {
     "name": "stdout",
     "output_type": "stream",
     "text": [
      "[16, 38, 9, 22, 23, 35]\n"
     ]
    }
   ],
   "source": [
    "#중복되는거 제거\n",
    "\n",
    "import random\n",
    "\n",
    "lotto = []\n",
    "count = list(range(6))\n",
    "for i in count:    #6번\n",
    "    n = random.randint(1,45)\n",
    "    if lotto.count(n) > 0:\n",
    "        count.append(0)\n",
    "    else:\n",
    "        lotto.append(n)\n",
    "    \n",
    "\n",
    "print(lotto)\n"
   ]
  },
  {
   "cell_type": "code",
   "execution_count": 64,
   "id": "57a2f720",
   "metadata": {
    "collapsed": true
   },
   "outputs": [
    {
     "data": {
      "text/plain": [
       "['__add__',\n",
       " '__class__',\n",
       " '__contains__',\n",
       " '__delattr__',\n",
       " '__dir__',\n",
       " '__doc__',\n",
       " '__eq__',\n",
       " '__format__',\n",
       " '__ge__',\n",
       " '__getattribute__',\n",
       " '__getitem__',\n",
       " '__getnewargs__',\n",
       " '__getstate__',\n",
       " '__gt__',\n",
       " '__hash__',\n",
       " '__init__',\n",
       " '__init_subclass__',\n",
       " '__iter__',\n",
       " '__le__',\n",
       " '__len__',\n",
       " '__lt__',\n",
       " '__mod__',\n",
       " '__mul__',\n",
       " '__ne__',\n",
       " '__new__',\n",
       " '__reduce__',\n",
       " '__reduce_ex__',\n",
       " '__repr__',\n",
       " '__rmod__',\n",
       " '__rmul__',\n",
       " '__setattr__',\n",
       " '__sizeof__',\n",
       " '__str__',\n",
       " '__subclasshook__',\n",
       " 'capitalize',\n",
       " 'casefold',\n",
       " 'center',\n",
       " 'count',\n",
       " 'encode',\n",
       " 'endswith',\n",
       " 'expandtabs',\n",
       " 'find',\n",
       " 'format',\n",
       " 'format_map',\n",
       " 'index',\n",
       " 'isalnum',\n",
       " 'isalpha',\n",
       " 'isascii',\n",
       " 'isdecimal',\n",
       " 'isdigit',\n",
       " 'isidentifier',\n",
       " 'islower',\n",
       " 'isnumeric',\n",
       " 'isprintable',\n",
       " 'isspace',\n",
       " 'istitle',\n",
       " 'isupper',\n",
       " 'join',\n",
       " 'ljust',\n",
       " 'lower',\n",
       " 'lstrip',\n",
       " 'maketrans',\n",
       " 'partition',\n",
       " 'removeprefix',\n",
       " 'removesuffix',\n",
       " 'replace',\n",
       " 'rfind',\n",
       " 'rindex',\n",
       " 'rjust',\n",
       " 'rpartition',\n",
       " 'rsplit',\n",
       " 'rstrip',\n",
       " 'split',\n",
       " 'splitlines',\n",
       " 'startswith',\n",
       " 'strip',\n",
       " 'swapcase',\n",
       " 'title',\n",
       " 'translate',\n",
       " 'upper',\n",
       " 'zfill']"
      ]
     },
     "execution_count": 64,
     "metadata": {},
     "output_type": "execute_result"
    }
   ],
   "source": [
    "dir('set')"
   ]
  },
  {
   "cell_type": "code",
   "execution_count": 68,
   "id": "fdb4a541",
   "metadata": {},
   "outputs": [
    {
     "name": "stdout",
     "output_type": "stream",
     "text": [
      "[18, 24, 30, 34, 36, 38]\n"
     ]
    }
   ],
   "source": [
    "import random\n",
    "lotto = set()    #리스트가 아닌 집합으로\n",
    "while True:\n",
    "    n = random.randint(1,45)\n",
    "    lotto.add(n)\n",
    "    if len(lotto) == 6: break\n",
    "lotto = list(lotto)\n",
    "lotto.sort()    #오름차순으로 정렬\n",
    "    \n",
    "print(lotto)\n"
   ]
  },
  {
   "cell_type": "code",
   "execution_count": null,
   "id": "9bea51c9",
   "metadata": {},
   "outputs": [],
   "source": []
  },
  {
   "cell_type": "code",
   "execution_count": 74,
   "id": "c4f14610",
   "metadata": {},
   "outputs": [
    {
     "data": {
      "text/plain": [
       "[7, 26, 36, 3, 19, 27]"
      ]
     },
     "execution_count": 74,
     "metadata": {},
     "output_type": "execute_result"
    }
   ],
   "source": [
    "import random\n",
    "lotto = [random.randint(1,45) for i in range(6)]\n",
    "lotto"
   ]
  },
  {
   "cell_type": "code",
   "execution_count": 75,
   "id": "eb58113b",
   "metadata": {},
   "outputs": [
    {
     "data": {
      "text/plain": [
       "['a', 'a', 'a', 'a', 'a', 'a']"
      ]
     },
     "execution_count": 75,
     "metadata": {},
     "output_type": "execute_result"
    }
   ],
   "source": [
    "['a' for i in range(6)]"
   ]
  },
  {
   "cell_type": "code",
   "execution_count": null,
   "id": "66e0fa17",
   "metadata": {},
   "outputs": [],
   "source": []
  },
  {
   "cell_type": "code",
   "execution_count": 83,
   "id": "d3646baa",
   "metadata": {
    "scrolled": true
   },
   "outputs": [
    {
     "data": {
      "text/plain": [
       "'abcdefghijklmnopqrstuvwxyz'"
      ]
     },
     "execution_count": 83,
     "metadata": {},
     "output_type": "execute_result"
    }
   ],
   "source": [
    "li = [chr(i) for i in range(ord('a'),ord('z')+1)]\n",
    "''.join(li)"
   ]
  },
  {
   "cell_type": "code",
   "execution_count": 80,
   "id": "03a4532d",
   "metadata": {},
   "outputs": [
    {
     "data": {
      "text/plain": [
       "('a', 97)"
      ]
     },
     "execution_count": 80,
     "metadata": {},
     "output_type": "execute_result"
    }
   ],
   "source": [
    "chr(97), ord('a')   \n",
    "#  chr 숫자를 영어로 아스키코드  #   ord   영어를 숫자로 아스키코드"
   ]
  },
  {
   "cell_type": "code",
   "execution_count": 82,
   "id": "f0ab9103",
   "metadata": {},
   "outputs": [
    {
     "data": {
      "text/plain": [
       "(44032, '각', 55203)"
      ]
     },
     "execution_count": 82,
     "metadata": {},
     "output_type": "execute_result"
    }
   ],
   "source": [
    "ord('가'), chr(44033), ord('힣')"
   ]
  },
  {
   "cell_type": "code",
   "execution_count": null,
   "id": "0c188028",
   "metadata": {},
   "outputs": [],
   "source": []
  },
  {
   "cell_type": "code",
   "execution_count": 85,
   "id": "a46dd5de",
   "metadata": {
    "collapsed": true
   },
   "outputs": [
    {
     "name": "stdout",
     "output_type": "stream",
     "text": [
      "Collecting matplotlib\n",
      "  Downloading matplotlib-3.6.3-cp311-cp311-win_amd64.whl (7.2 MB)\n",
      "     ---------------------------------------- 0.0/7.2 MB ? eta -:--:--\n",
      "     -- ------------------------------------- 0.4/7.2 MB 13.2 MB/s eta 0:00:01\n",
      "     ---- ----------------------------------- 0.8/7.2 MB 10.6 MB/s eta 0:00:01\n",
      "     ------- -------------------------------- 1.4/7.2 MB 11.1 MB/s eta 0:00:01\n",
      "     ---------- ----------------------------- 2.0/7.2 MB 11.3 MB/s eta 0:00:01\n",
      "     ------------- -------------------------- 2.5/7.2 MB 11.4 MB/s eta 0:00:01\n",
      "     ---------------- ----------------------- 3.0/7.2 MB 11.2 MB/s eta 0:00:01\n",
      "     ------------------- -------------------- 3.5/7.2 MB 11.1 MB/s eta 0:00:01\n",
      "     ---------------------- ----------------- 4.0/7.2 MB 11.2 MB/s eta 0:00:01\n",
      "     ------------------------- -------------- 4.5/7.2 MB 11.1 MB/s eta 0:00:01\n",
      "     --------------------------- ------------ 5.0/7.2 MB 11.1 MB/s eta 0:00:01\n",
      "     ------------------------------ --------- 5.6/7.2 MB 11.1 MB/s eta 0:00:01\n",
      "     --------------------------------- ------ 6.1/7.2 MB 11.2 MB/s eta 0:00:01\n",
      "     ------------------------------------ --- 6.7/7.2 MB 11.2 MB/s eta 0:00:01\n",
      "     ---------------------------------------  7.2/7.2 MB 11.2 MB/s eta 0:00:01\n",
      "     ---------------------------------------- 7.2/7.2 MB 11.0 MB/s eta 0:00:00\n",
      "Collecting contourpy>=1.0.1\n",
      "  Downloading contourpy-1.0.7-cp311-cp311-win_amd64.whl (162 kB)\n",
      "     ---------------------------------------- 0.0/163.0 kB ? eta -:--:--\n",
      "     -------------------------------------- 163.0/163.0 kB 9.5 MB/s eta 0:00:00\n",
      "Collecting cycler>=0.10\n",
      "  Downloading cycler-0.11.0-py3-none-any.whl (6.4 kB)\n",
      "Collecting fonttools>=4.22.0\n",
      "  Downloading fonttools-4.38.0-py3-none-any.whl (965 kB)\n",
      "     ---------------------------------------- 0.0/965.4 kB ? eta -:--:--\n",
      "     ---------------- -------------------- 430.1/965.4 kB 13.1 MB/s eta 0:00:01\n",
      "     ----------------------------------- - 921.6/965.4 kB 11.5 MB/s eta 0:00:01\n",
      "     ------------------------------------- 965.4/965.4 kB 12.1 MB/s eta 0:00:00\n",
      "Collecting kiwisolver>=1.0.1\n",
      "  Downloading kiwisolver-1.4.4-cp311-cp311-win_amd64.whl (55 kB)\n",
      "     ---------------------------------------- 0.0/55.4 kB ? eta -:--:--\n",
      "     ---------------------------------------- 55.4/55.4 kB ? eta 0:00:00\n",
      "Collecting numpy>=1.19\n",
      "  Downloading numpy-1.24.2-cp311-cp311-win_amd64.whl (14.8 MB)\n",
      "     ---------------------------------------- 0.0/14.8 MB ? eta -:--:--\n",
      "     - -------------------------------------- 0.4/14.8 MB 12.2 MB/s eta 0:00:02\n",
      "     -- ------------------------------------- 1.0/14.8 MB 11.1 MB/s eta 0:00:02\n",
      "     ---- ----------------------------------- 1.6/14.8 MB 11.0 MB/s eta 0:00:02\n",
      "     ----- ---------------------------------- 2.1/14.8 MB 11.2 MB/s eta 0:00:02\n",
      "     ------- -------------------------------- 2.7/14.8 MB 11.3 MB/s eta 0:00:02\n",
      "     -------- ------------------------------- 3.2/14.8 MB 11.4 MB/s eta 0:00:02\n",
      "     ---------- ----------------------------- 3.8/14.8 MB 11.4 MB/s eta 0:00:01\n",
      "     ----------- ---------------------------- 4.3/14.8 MB 11.5 MB/s eta 0:00:01\n",
      "     ------------- -------------------------- 4.9/14.8 MB 11.6 MB/s eta 0:00:01\n",
      "     -------------- ------------------------- 5.4/14.8 MB 11.6 MB/s eta 0:00:01\n",
      "     ---------------- ----------------------- 6.0/14.8 MB 11.6 MB/s eta 0:00:01\n",
      "     ----------------- ---------------------- 6.5/14.8 MB 11.6 MB/s eta 0:00:01\n",
      "     ------------------- -------------------- 7.1/14.8 MB 11.6 MB/s eta 0:00:01\n",
      "     -------------------- ------------------- 7.6/14.8 MB 11.6 MB/s eta 0:00:01\n",
      "     ---------------------- ----------------- 8.2/14.8 MB 11.6 MB/s eta 0:00:01\n",
      "     ----------------------- ---------------- 8.7/14.8 MB 11.6 MB/s eta 0:00:01\n",
      "     ------------------------- -------------- 9.3/14.8 MB 11.6 MB/s eta 0:00:01\n",
      "     -------------------------- ------------- 9.8/14.8 MB 11.7 MB/s eta 0:00:01\n",
      "     --------------------------- ----------- 10.4/14.8 MB 11.7 MB/s eta 0:00:01\n",
      "     ---------------------------- ---------- 11.0/14.8 MB 11.7 MB/s eta 0:00:01\n",
      "     ------------------------------ -------- 11.5/14.8 MB 11.7 MB/s eta 0:00:01\n",
      "     ------------------------------- ------- 12.1/14.8 MB 11.7 MB/s eta 0:00:01\n",
      "     --------------------------------- ----- 12.6/14.8 MB 11.7 MB/s eta 0:00:01\n",
      "     ---------------------------------- ---- 13.2/14.8 MB 11.7 MB/s eta 0:00:01\n",
      "     ----------------------------------- --- 13.7/14.8 MB 11.7 MB/s eta 0:00:01\n",
      "     ------------------------------------- - 14.2/14.8 MB 11.7 MB/s eta 0:00:01\n",
      "     --------------------------------------  14.7/14.8 MB 11.7 MB/s eta 0:00:01\n",
      "     --------------------------------------- 14.8/14.8 MB 11.3 MB/s eta 0:00:00\n",
      "Requirement already satisfied: packaging>=20.0 in c:\\users\\admin\\appdata\\local\\programs\\python\\python311\\lib\\site-packages (from matplotlib) (23.0)\n",
      "Collecting pillow>=6.2.0\n",
      "  Downloading Pillow-9.4.0-cp311-cp311-win_amd64.whl (2.5 MB)\n",
      "     ---------------------------------------- 0.0/2.5 MB ? eta -:--:--\n",
      "     -------- ------------------------------- 0.5/2.5 MB 11.1 MB/s eta 0:00:01\n",
      "     ---------------- ----------------------- 1.0/2.5 MB 10.9 MB/s eta 0:00:01\n",
      "     -------------------------- ------------- 1.6/2.5 MB 11.5 MB/s eta 0:00:01\n",
      "     ----------------------------------- ---- 2.2/2.5 MB 11.6 MB/s eta 0:00:01\n",
      "     ---------------------------------------- 2.5/2.5 MB 11.3 MB/s eta 0:00:00\n",
      "Collecting pyparsing>=2.2.1\n",
      "  Downloading pyparsing-3.0.9-py3-none-any.whl (98 kB)\n",
      "     ---------------------------------------- 0.0/98.3 kB ? eta -:--:--\n",
      "     ---------------------------------------- 98.3/98.3 kB ? eta 0:00:00\n",
      "Requirement already satisfied: python-dateutil>=2.7 in c:\\users\\admin\\appdata\\local\\programs\\python\\python311\\lib\\site-packages (from matplotlib) (2.8.2)\n",
      "Requirement already satisfied: six>=1.5 in c:\\users\\admin\\appdata\\local\\programs\\python\\python311\\lib\\site-packages (from python-dateutil>=2.7->matplotlib) (1.16.0)\n",
      "Installing collected packages: pyparsing, pillow, numpy, kiwisolver, fonttools, cycler, contourpy, matplotlib\n",
      "Successfully installed contourpy-1.0.7 cycler-0.11.0 fonttools-4.38.0 kiwisolver-1.4.4 matplotlib-3.6.3 numpy-1.24.2 pillow-9.4.0 pyparsing-3.0.9\n"
     ]
    }
   ],
   "source": [
    "!pip install matplotlib"
   ]
  },
  {
   "cell_type": "code",
   "execution_count": 87,
   "id": "ade5dd08",
   "metadata": {
    "collapsed": true
   },
   "outputs": [
    {
     "data": {
      "text/plain": [
       "[<matplotlib.lines.Line2D at 0x1b896703a90>]"
      ]
     },
     "execution_count": 87,
     "metadata": {},
     "output_type": "execute_result"
    },
    {
     "data": {
      "image/png": "[encoded data removed]",
      "text/plain": [
       "<Figure size 640x480 with 1 Axes>"
      ]
     },
     "metadata": {},
     "output_type": "display_data"
    }
   ],
   "source": [
    "import matplotlib.pyplot\n",
    "matplotlib.pyplot.plot([5, 3, 9, 10, 1])  #그래프표현"
   ]
  },
  {
   "cell_type": "code",
   "execution_count": 94,
   "id": "20b0f4fd",
   "metadata": {},
   "outputs": [
    {
     "name": "stdout",
     "output_type": "stream",
     "text": [
      "15\n"
     ]
    }
   ],
   "source": [
    "def plus(a, b):\n",
    "    return a + b\n",
    "x = 10\n",
    "y =5\n",
    "\n",
    "result = plus(x, y) # result = plus(10, 5)\n",
    "print(result)\n"
   ]
  },
  {
   "cell_type": "code",
   "execution_count": null,
   "id": "0932620d",
   "metadata": {},
   "outputs": [],
   "source": []
  },
  {
   "cell_type": "code",
   "execution_count": 91,
   "id": "a56f1a73",
   "metadata": {},
   "outputs": [
    {
     "name": "stdout",
     "output_type": "stream",
     "text": [
      "AAA!!!!\n"
     ]
    }
   ],
   "source": [
    "def a():\n",
    "    print('AAA!!!!')\n",
    "result = a\n",
    "result()"
   ]
  },
  {
   "cell_type": "code",
   "execution_count": 96,
   "id": "d31f0d64",
   "metadata": {},
   "outputs": [
    {
     "name": "stdout",
     "output_type": "stream",
     "text": [
      "수박수"
     ]
    }
   ],
   "source": [
    "n = 3   #하드코딩 - 값을 직접(코드) 입력하는 것\n",
    "for i  in range(n):\n",
    "    if i % 2 == 0:\n",
    "        print('수', end = '')\n",
    "    else:\n",
    "        print('박', end = '')"
   ]
  },
  {
   "cell_type": "code",
   "execution_count": 98,
   "id": "ece19719",
   "metadata": {},
   "outputs": [
    {
     "name": "stdout",
     "output_type": "stream",
     "text": [
      "수박수박수"
     ]
    }
   ],
   "source": [
    "n = 5   #하드코딩 - 값을 직접(코드) 입력하는 것\n",
    "반 = n//2\n",
    "print(반*'수박', end = '')\n",
    "\n",
    "if n % 2 != 0:\n",
    "    print('수', end = '')"
   ]
  },
  {
   "cell_type": "code",
   "execution_count": 101,
   "id": "b389115e",
   "metadata": {},
   "outputs": [
    {
     "name": "stdout",
     "output_type": "stream",
     "text": [
      "수박수박수"
     ]
    }
   ],
   "source": [
    "n = 5   #하드코딩 - 값을 직접(코드) 입력하는 것\n",
    "\n",
    "def 수박(x):\n",
    "    반 = x // 2\n",
    "    print(반 * '수박', end = '')\n",
    "\n",
    "    if x % 2 != 0:\n",
    "        print('수', end = '')\n",
    "        \n",
    "수박(n)"
   ]
  },
  {
   "cell_type": "code",
   "execution_count": 102,
   "id": "cfc542ec",
   "metadata": {},
   "outputs": [
    {
     "data": {
      "text/plain": [
       "'수박수박수'"
      ]
     },
     "execution_count": 102,
     "metadata": {},
     "output_type": "execute_result"
    }
   ],
   "source": [
    "n = 5   #하드코딩 - 값을 직접(코드) 입력하는 것\n",
    "\n",
    "def 수박(x):\n",
    "    buffer = ''\n",
    "    반 = x // 2\n",
    "    buffer += (반 * '수박')\n",
    "\n",
    "    if x % 2 != 0:\n",
    "        buffer += '수'\n",
    "    return buffer\n",
    "        \n",
    "수박(n)"
   ]
  },
  {
   "cell_type": "code",
   "execution_count": null,
   "id": "acc33ee2",
   "metadata": {},
   "outputs": [],
   "source": []
  },
  {
   "cell_type": "code",
   "execution_count": 106,
   "id": "3110084e",
   "metadata": {},
   "outputs": [
    {
     "name": "stdout",
     "output_type": "stream",
     "text": [
      "7\n"
     ]
    }
   ],
   "source": [
    "n = 124\n",
    "def 합구하기(n):\n",
    "    합 = 0\n",
    "\n",
    "    while True:\n",
    "        자리수 = n% 10\n",
    "        합 += 자리수\n",
    "        n//= 10\n",
    "        if n ==0: break\n",
    "    print(합)\n",
    "    \n",
    "합구하기(n)"
   ]
  },
  {
   "cell_type": "code",
   "execution_count": 106,
   "id": "e625e986",
   "metadata": {},
   "outputs": [
    {
     "name": "stdout",
     "output_type": "stream",
     "text": [
      "7\n"
     ]
    }
   ],
   "source": [
    "n = 124\n",
    "def 합구하기(n):\n",
    "    합 = 0\n",
    "\n",
    "    while True:\n",
    "        자리수 = n% 10\n",
    "        합 += 자리수\n",
    "        n//= 10\n",
    "        if n ==0: break\n",
    "    return 합\n",
    "    \n",
    "합구하기(n)"
   ]
  },
  {
   "cell_type": "code",
   "execution_count": null,
   "id": "7e6256df",
   "metadata": {},
   "outputs": [],
   "source": []
  },
  {
   "cell_type": "code",
   "execution_count": 111,
   "id": "a4917cf7",
   "metadata": {},
   "outputs": [
    {
     "data": {
      "text/plain": [
       "[<matplotlib.lines.Line2D at 0x1b8b5742f90>]"
      ]
     },
     "execution_count": 111,
     "metadata": {},
     "output_type": "execute_result"
    },
    {
     "data": {
      "image/png": "[encoded data removed]",
      "text/plain": [
       "<Figure size 640x480 with 1 Axes>"
      ]
     },
     "metadata": {},
     "output_type": "display_data"
    }
   ],
   "source": [
    "import matplotlib.pyplot\n",
    "data = ['1', '11', '2', '21', '3', '4']\n",
    "#리스트의 문자를 숫자로 변경\n",
    "data = list(map(lambda x: int(x),data))      #lambda 혼자 스스로 쓸수 없음 다른 녀석들의 부속품역할을 담당\n",
    "matplotlib.pyplot.plot(data)"
   ]
  },
  {
   "cell_type": "code",
   "execution_count": null,
   "id": "1ca0185e",
   "metadata": {},
   "outputs": [],
   "source": []
  },
  {
   "cell_type": "code",
   "execution_count": 119,
   "id": "e60e0dd2",
   "metadata": {},
   "outputs": [
    {
     "data": {
      "text/plain": [
       "'1시 3분 5초'"
      ]
     },
     "execution_count": 119,
     "metadata": {},
     "output_type": "execute_result"
    }
   ],
   "source": [
    "문제 = 3785\n",
    "시간 = 문제 // (60 * 60)\n",
    "분 = (문제 % 3600) //60\n",
    "초 = (문제 %60)\n",
    "'%s시간 %s분 %s초' %(시간, 분 , 초)"
   ]
  },
  {
   "cell_type": "markdown",
   "id": "ff67b04e",
   "metadata": {},
   "source": [
    "파일 업로드 최대 용량  = (연산식으로 표현) ex) 1024 * 1024 * 100   = 100MBYte(100메가바이트)"
   ]
  },
  {
   "cell_type": "markdown",
   "id": "feefd686",
   "metadata": {},
   "source": [
    "1개 문자 = 1Byte\n",
    "    *1Byte = 8Bit   256개의 문자만 1Byte로 표현 할 수 있음(아스키코드내의 문자들)\n",
    "       Utf8 에선 한글 한글자가 3 Byte\n",
    "       ANSI에선 한글 한글자가 2Byte   <<안시에서는 가끔 한글이 깨질수도 있다\n",
    "1,024Byte = 1KByte\n",
    "1,024KByte = 1GByte\n",
    "1,024Gbyte = 1TByte\n",
    "\n",
    "<대충>\n",
    "1,000 ==> 1kByte ==> Thousand   ==> 2^10\n",
    "1,000,000 ==> million  ==>2^20\n",
    "1,000,000,000 ==>Billion  ==>2^30"
   ]
  },
  {
   "cell_type": "markdown",
   "id": "85fe16e7",
   "metadata": {},
   "source": [
    "# 마방진\n",
    "구현"
   ]
  },
  {
   "cell_type": "code",
   "execution_count": 152,
   "id": "1d3203f4",
   "metadata": {},
   "outputs": [
    {
     "name": "stdout",
     "output_type": "stream",
     "text": [
      "17 24 1 8 15 \n",
      "23 5 7 14 16 \n",
      "4 6 13 20 22 \n",
      "10 12 19 21 3 \n",
      "11 18 25 2 9 \n"
     ]
    }
   ],
   "source": [
    "#시작점은 가장자리 중앙으로 해야한당\n",
    "\n",
    "m = [[0 for i in range(5)] for j in range(5)]\n",
    "row = 0\n",
    "col = 2\n",
    "m[row][col] = 1\n",
    "for i in range(2,26):\n",
    "    원래row = row\n",
    "    원래col = col\n",
    "    row -= 1\n",
    "    col += 1\n",
    "    if row < 0:\n",
    "        row = 4\n",
    "    if col > 4:\n",
    "        col = 0\n",
    "    if m[row][col] != 0:\n",
    "#         row += 2\n",
    "#         col -= 1\n",
    "        row = 원래row + 1\n",
    "        col = 원래col\n",
    "#     print('%s %s %s' %(row, col, i))\n",
    "    m[row][col] = i\n",
    "    \n",
    "m\n",
    "# print(m)\n",
    "for a in m:\n",
    "    for b in a:\n",
    "#         if b < 10:\n",
    "#             print('0'+str(b), end = '')     #열 맞혀지게 10이하에는 0을 포함하여 출력되게끔해보기\n",
    "        print(b, end=' ')\n",
    "    print()    #2차원형식으로 출력하기"
   ]
  },
  {
   "cell_type": "code",
   "execution_count": 154,
   "id": "da40f6f7",
   "metadata": {
    "collapsed": true
   },
   "outputs": [
    {
     "data": {
      "text/plain": [
       "[22,\n",
       " 11,\n",
       " 19,\n",
       " 21,\n",
       " 1,\n",
       " 15,\n",
       " 13,\n",
       " 16,\n",
       " 18,\n",
       " 7,\n",
       " 8,\n",
       " 24,\n",
       " 10,\n",
       " 6,\n",
       " 4,\n",
       " 5,\n",
       " 23,\n",
       " 20,\n",
       " 3,\n",
       " 2,\n",
       " 12,\n",
       " 14,\n",
       " 17,\n",
       " 25,\n",
       " 9]"
      ]
     },
     "execution_count": 154,
     "metadata": {},
     "output_type": "execute_result"
    }
   ],
   "source": [
    "import random\n",
    "bingo = [i for i in range(1, 26)]\n",
    "random.shuffle(bingo)\n",
    "bingo\n",
    "\n",
    "#5개씩 출력할수 있도록도 해보기"
   ]
  },
  {
   "cell_type": "code",
   "execution_count": 159,
   "id": "465e2532",
   "metadata": {},
   "outputs": [
    {
     "ename": "ValueError",
     "evalue": "not enough values to unpack (expected 2, got 0)",
     "output_type": "error",
     "traceback": [
      "\u001b[1;31m---------------------------------------------------------------------------\u001b[0m",
      "\u001b[1;31mValueError\u001b[0m                                Traceback (most recent call last)",
      "Cell \u001b[1;32mIn[159], line 5\u001b[0m\n\u001b[0;32m      3\u001b[0m bingo \u001b[38;5;241m=\u001b[39m [i \u001b[38;5;28;01mfor\u001b[39;00m i \u001b[38;5;129;01min\u001b[39;00m \u001b[38;5;28mrange\u001b[39m(\u001b[38;5;241m1\u001b[39m, \u001b[38;5;241m26\u001b[39m)]\n\u001b[0;32m      4\u001b[0m random\u001b[38;5;241m.\u001b[39mshuffle(bingo)\n\u001b[1;32m----> 5\u001b[0m bingo, end \u001b[38;5;241m=\u001b[39m \u001b[38;5;124m'\u001b[39m\u001b[38;5;124m'\u001b[39m\n\u001b[0;32m      7\u001b[0m \u001b[38;5;66;03m#5개씩 출력할수 있도록도 해보기\u001b[39;00m\n",
      "\u001b[1;31mValueError\u001b[0m: not enough values to unpack (expected 2, got 0)"
     ]
    }
   ],
   "source": [
    "#5개씩 출력할수 있도록도 해보기\n",
    "\n",
    "import random\n",
    "bingo = [0, 0, 0, 0, 0]\n",
    "bingo = [i for i in range(1, 26)]\n",
    "random.shuffle(bingo)\n",
    "bingo"
   ]
  }
 ],
 "metadata": {
  "kernelspec": {
   "display_name": "Python 3 (ipykernel)",
   "language": "python",
   "name": "python3"
  },
  "language_info": {
   "codemirror_mode": {
    "name": "ipython",
    "version": 3
   },
   "file_extension": ".py",
   "mimetype": "text/x-python",
   "name": "python",
   "nbconvert_exporter": "python",
   "pygments_lexer": "ipython3",
   "version": "3.11.1"
  }
 },
 "nbformat": 4,
 "nbformat_minor": 5
}
