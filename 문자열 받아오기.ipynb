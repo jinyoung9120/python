{
 "cells": [
  {
   "cell_type": "markdown",
   "id": "213f6566",
   "metadata": {},
   "source": [
    "# 강사님"
   ]
  },
  {
   "cell_type": "code",
   "execution_count": 25,
   "id": "326716f6",
   "metadata": {
    "scrolled": false
   },
   "outputs": [
    {
     "name": "stdout",
     "output_type": "stream",
     "text": [
      "g fmnc wms bgblr rpylqjyrc gr zw fylb. rfyrq ufyr amknsrcpq ypc dmp. bmgle gr gl zw fylb gq glcddgagclr ylb rfyr'q ufw rfgq rcvr gq qm jmle. sqgle qrpgle.kyicrpylq() gq pcamkkclbcb. lmu ynnjw ml rfc spj.\n"
     ]
    }
   ],
   "source": [
    "import requests as req\n",
    "res = req.get('http://ggoreb.com/quiz/encrypt_string.txt')\n",
    "text = res.text\n",
    "print(text)\n"
   ]
  },
  {
   "cell_type": "code",
   "execution_count": 26,
   "id": "305f56fb",
   "metadata": {
    "scrolled": true
   },
   "outputs": [
    {
     "name": "stdout",
     "output_type": "stream",
     "text": [
      "i hope you didnt tr{nsl{te it |y h{nd. th{ts wh{t computers {re for. doing it in |y h{nd is inefficient {nd th{t's why this text is so long. using string.m{ketr{ns() is recommended. now {pply on the url."
     ]
    }
   ],
   "source": [
    "for t in text:\n",
    "    if t in '\\'.() \"{}':\n",
    "        print(t, end='')\n",
    "    else:\n",
    "        print(chr(ord(t)+2), end='')"
   ]
  },
  {
   "cell_type": "markdown",
   "id": "82d6c935",
   "metadata": {},
   "source": [
    "문자\n",
    " 원하는 문자 찾기\n",
    " 1. in\n",
    " 2. find()\n",
    " 3. index()\n",
    " 4. count()"
   ]
  },
  {
   "cell_type": "code",
   "execution_count": 9,
   "id": "ef1b7397",
   "metadata": {},
   "outputs": [
    {
     "name": "stdout",
     "output_type": "stream",
     "text": [
      "i hope you didnt translate it by hand. thats what computers are for. doing it in by hand is inefficient and that's why this text is so long. using string.maketrans() is recommended. now apply on the url."
     ]
    }
   ],
   "source": [
    "#이터러블 lterable 반복 가능 자료형\n",
    "# 1. List\n",
    "# 2. Dictionary\n",
    "# 3. string\n",
    "\n",
    "for t in text:\n",
    "    # a ~ z 문자만 2증가\n",
    "    if t >= 'a' and t <= 'z':\n",
    "        change_t = ord(t) + 2\n",
    "        if change_t > ord('z'):\n",
    "            change_t -= 26\n",
    "        print(chr(change_t),end = '')\n",
    "    else:  # 공백 '' () ,\n",
    "        print(t, end='')"
   ]
  },
  {
   "cell_type": "code",
   "execution_count": 27,
   "id": "d85bb497",
   "metadata": {},
   "outputs": [],
   "source": [
    "before = [chr(i) for i in range(ord('a'), ord('z') + 1)]\n",
    "before = ''.join(before)\n",
    "after = before[2:] + before[:2]\n",
    "after = ''.join(after)"
   ]
  },
  {
   "cell_type": "code",
   "execution_count": 29,
   "id": "4b534209",
   "metadata": {
    "scrolled": false
   },
   "outputs": [
    {
     "data": {
      "text/plain": [
       "\"i hope you didnt translate it by hand. thats what computers are for. doing it in by hand is inefficient and that's why this text is so long. using string.maketrans() is recommended. now apply on the url.\""
      ]
     },
     "execution_count": 29,
     "metadata": {},
     "output_type": "execute_result"
    }
   ],
   "source": [
    "obj = ''.maketrans(before, after)     # maketrans : string에 소속된 함수\n",
    "text.translate(obj)"
   ]
  }
 ],
 "metadata": {
  "kernelspec": {
   "display_name": "Python 3 (ipykernel)",
   "language": "python",
   "name": "python3"
  },
  "language_info": {
   "codemirror_mode": {
    "name": "ipython",
    "version": 3
   },
   "file_extension": ".py",
   "mimetype": "text/x-python",
   "name": "python",
   "nbconvert_exporter": "python",
   "pygments_lexer": "ipython3",
   "version": "3.11.1"
  }
 },
 "nbformat": 4,
 "nbformat_minor": 5
}
